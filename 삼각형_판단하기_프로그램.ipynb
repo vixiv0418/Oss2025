{
  "nbformat": 4,
  "nbformat_minor": 0,
  "metadata": {
    "colab": {
      "provenance": [],
      "authorship_tag": "ABX9TyMVSviuLhqGXhE01LWAOSiG",
      "include_colab_link": true
    },
    "kernelspec": {
      "name": "python3",
      "display_name": "Python 3"
    },
    "language_info": {
      "name": "python"
    }
  },
  "cells": [
    {
      "cell_type": "markdown",
      "metadata": {
        "id": "view-in-github",
        "colab_type": "text"
      },
      "source": [
        "<a href=\"https://colab.research.google.com/github/vixiv0418/Oss2025/blob/main/%EC%82%BC%EA%B0%81%ED%98%95_%ED%8C%90%EB%8B%A8%ED%95%98%EA%B8%B0_%ED%94%84%EB%A1%9C%EA%B7%B8%EB%9E%A8.ipynb\" target=\"_parent\"><img src=\"https://colab.research.google.com/assets/colab-badge.svg\" alt=\"Open In Colab\"/></a>"
      ]
    },
    {
      "cell_type": "markdown",
      "source": [
        "#OSS 개발 - 코랩 실습(삼각형 판단하기)\n",
        "본 수업에서는 **삼각형의 세변의 길이**를 받아서 어떠한 삼각형인지를 판단하는 프로그램을 개발합니다.\n",
        "\n",
        "$a = b= c$ 정삼각형\n"
      ],
      "metadata": {
        "id": "W5NspVeMvrQQ"
      }
    },
    {
      "cell_type": "markdown",
      "source": [
        "# 정삼각형"
      ],
      "metadata": {
        "id": "uvnopLPyy7c3"
      }
    },
    {
      "cell_type": "code",
      "source": [
        "a = 6\n",
        "b = 5\n",
        "c = 13\n",
        "\n",
        "if a == b ==c:\n",
        "  print(\"정삼각형\")\n",
        "else:\n",
        "  print(\"정삼각형이 아닙니다\")\n"
      ],
      "metadata": {
        "colab": {
          "base_uri": "https://localhost:8080/"
        },
        "id": "fBTRAzqfyfAk",
        "outputId": "54d0dbef-01b5-484b-90b7-8676799bb533"
      },
      "execution_count": 2,
      "outputs": [
        {
          "output_type": "stream",
          "name": "stdout",
          "text": [
            "정삼각형이 아닙니다\n"
          ]
        }
      ]
    },
    {
      "cell_type": "code",
      "source": [],
      "metadata": {
        "id": "DPTdpCnyyb7_"
      },
      "execution_count": 2,
      "outputs": []
    }
  ]
}